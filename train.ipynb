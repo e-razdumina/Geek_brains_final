{
 "cells": [
  {
   "cell_type": "markdown",
   "metadata": {},
   "source": [
    "### Описание проекта"
   ]
  },
  {
   "cell_type": "markdown",
   "metadata": {},
   "source": [
    "Модель рекомендаций, построенная на данных для REKKO Challenge.\n",
    "Переобучение и скоринг раз в 2 недели, последующая загрузка скоров на кластер.\n",
    "При поступлении user_id из кафки - селектим по ключу из кассандры рекоммендации. Если для такого id нет рекомендаций - возвращаем 5 самых популярных фильмов. "
   ]
  },
  {
   "cell_type": "markdown",
   "metadata": {},
   "source": [
    "### Импорт библиотек"
   ]
  },
  {
   "cell_type": "code",
   "execution_count": 1,
   "metadata": {},
   "outputs": [],
   "source": [
    "# ! pip install pandas numpy scipy implicit pprint tqdm"
   ]
  },
  {
   "cell_type": "code",
   "execution_count": 2,
   "metadata": {},
   "outputs": [],
   "source": [
    "import os\n",
    "import json\n",
    "import pandas as pd\n",
    "import numpy as np\n",
    "import tqdm\n",
    "import scipy.sparse as sp\n",
    "\n",
    "from pprint import pprint\n",
    "from collections import defaultdict\n",
    "from scipy.sparse import csr_matrix\n",
    "from scipy.sparse import lil_matrix\n",
    "\n",
    "from implicit.als import AlternatingLeastSquares\n",
    "from sklearn.preprocessing import normalize\n",
    "from scipy.sparse import spdiags\n",
    "from scipy.sparse import vstack\n",
    "\n",
    "import lightgbm as lgb"
   ]
  },
  {
   "cell_type": "markdown",
   "metadata": {},
   "source": [
    "### Загрузка данных"
   ]
  },
  {
   "cell_type": "code",
   "execution_count": 3,
   "metadata": {},
   "outputs": [],
   "source": [
    "data_path = './data'"
   ]
  },
  {
   "cell_type": "markdown",
   "metadata": {},
   "source": [
    "`catalogue.json` содержит анонимизированную метаинформацию о доступных в сервисе фильмах и сериалах."
   ]
  },
  {
   "cell_type": "code",
   "execution_count": 4,
   "metadata": {},
   "outputs": [],
   "source": [
    "with open(os.path.join(data_path, 'catalogue.json'), 'r') as f:\n",
    "    catalogue = json.load(f)\n",
    "    \n",
    "catalogue = {int(k): v for k, v in catalogue.items()}"
   ]
  },
  {
   "cell_type": "code",
   "execution_count": 5,
   "metadata": {},
   "outputs": [
    {
     "data": {
      "text/plain": [
       "10200"
      ]
     },
     "execution_count": 5,
     "metadata": {},
     "output_type": "execute_result"
    }
   ],
   "source": [
    "len(catalogue)"
   ]
  },
  {
   "cell_type": "code",
   "execution_count": 6,
   "metadata": {},
   "outputs": [
    {
     "name": "stdout",
     "output_type": "stream",
     "text": [
      "{'attributes': [18441,\n",
      "                16300,\n",
      "                16580,\n",
      "                18770,\n",
      "                18771,\n",
      "                18643,\n",
      "                396,\n",
      "                18772,\n",
      "                3771,\n",
      "                18773,\n",
      "                910,\n",
      "                18774,\n",
      "                16364,\n",
      "                3277],\n",
      " 'availability': ['purchase', 'rent'],\n",
      " 'duration': 80,\n",
      " 'feature_1': 6064738.740195342,\n",
      " 'feature_2': 0.752750538,\n",
      " 'feature_3': 4,\n",
      " 'feature_4': 0.9537104605,\n",
      " 'feature_5': 0.0,\n",
      " 'type': 'movie'}\n"
     ]
    }
   ],
   "source": [
    "pprint(catalogue[100])"
   ]
  },
  {
   "cell_type": "markdown",
   "metadata": {},
   "source": [
    " - `attributes` — мешок атрибутов\n",
    " - `availability` — доступность (может содержать значения `purchase`, `rent` и `subscription`)\n",
    " - `duration` — длительность в минутах, округлённая до десятков (продолжительность серии для сериалов и многосерийных фильмов)\n",
    " - `feature_1..5` — пять анонимизированных вещественных и порядковых признаков\n",
    " - `type` — принимает значения `movie`, `multipart_movie` или `series`"
   ]
  },
  {
   "cell_type": "markdown",
   "metadata": {},
   "source": [
    "---"
   ]
  },
  {
   "cell_type": "markdown",
   "metadata": {},
   "source": [
    "`test_users.json` содержит список пользователей, для которых необходимо построить предсказание"
   ]
  },
  {
   "cell_type": "code",
   "execution_count": 7,
   "metadata": {},
   "outputs": [],
   "source": [
    "with open(os.path.join(data_path, 'test_users.json'), 'r') as f:\n",
    "    test_users = set(json.load(f)['users'])"
   ]
  },
  {
   "cell_type": "markdown",
   "metadata": {},
   "source": [
    "---"
   ]
  },
  {
   "cell_type": "markdown",
   "metadata": {},
   "source": [
    "`transactions.csv` — список всех транзакций за определённый период времени"
   ]
  },
  {
   "cell_type": "code",
   "execution_count": 8,
   "metadata": {},
   "outputs": [
    {
     "name": "stdout",
     "output_type": "stream",
     "text": [
      "CPU times: user 2.92 s, sys: 274 ms, total: 3.2 s\n",
      "Wall time: 3.21 s\n"
     ]
    }
   ],
   "source": [
    "%%time\n",
    "transactions = pd.read_csv(\n",
    "    os.path.join(data_path, 'transactions.csv'),\n",
    "    dtype={\n",
    "        'element_uid': np.uint16,\n",
    "        'user_uid': np.uint32,\n",
    "        'consumption_mode': 'category',\n",
    "        'ts': np.float64,\n",
    "        'watched_time': np.uint64,\n",
    "        'device_type': np.uint8,\n",
    "        'device_manufacturer': np.uint8\n",
    "    }\n",
    ")"
   ]
  },
  {
   "cell_type": "code",
   "execution_count": 9,
   "metadata": {},
   "outputs": [
    {
     "data": {
      "text/html": [
       "<div>\n",
       "<style scoped>\n",
       "    .dataframe tbody tr th:only-of-type {\n",
       "        vertical-align: middle;\n",
       "    }\n",
       "\n",
       "    .dataframe tbody tr th {\n",
       "        vertical-align: top;\n",
       "    }\n",
       "\n",
       "    .dataframe thead th {\n",
       "        text-align: right;\n",
       "    }\n",
       "</style>\n",
       "<table border=\"1\" class=\"dataframe\">\n",
       "  <thead>\n",
       "    <tr style=\"text-align: right;\">\n",
       "      <th></th>\n",
       "      <th>element_uid</th>\n",
       "      <th>user_uid</th>\n",
       "      <th>consumption_mode</th>\n",
       "      <th>ts</th>\n",
       "      <th>watched_time</th>\n",
       "      <th>device_type</th>\n",
       "      <th>device_manufacturer</th>\n",
       "    </tr>\n",
       "  </thead>\n",
       "  <tbody>\n",
       "    <tr>\n",
       "      <th>0</th>\n",
       "      <td>3336</td>\n",
       "      <td>5177</td>\n",
       "      <td>S</td>\n",
       "      <td>4.430518e+07</td>\n",
       "      <td>4282</td>\n",
       "      <td>0</td>\n",
       "      <td>50</td>\n",
       "    </tr>\n",
       "    <tr>\n",
       "      <th>1</th>\n",
       "      <td>481</td>\n",
       "      <td>593316</td>\n",
       "      <td>S</td>\n",
       "      <td>4.430518e+07</td>\n",
       "      <td>2989</td>\n",
       "      <td>0</td>\n",
       "      <td>11</td>\n",
       "    </tr>\n",
       "    <tr>\n",
       "      <th>2</th>\n",
       "      <td>4128</td>\n",
       "      <td>262355</td>\n",
       "      <td>S</td>\n",
       "      <td>4.430518e+07</td>\n",
       "      <td>833</td>\n",
       "      <td>0</td>\n",
       "      <td>50</td>\n",
       "    </tr>\n",
       "  </tbody>\n",
       "</table>\n",
       "</div>"
      ],
      "text/plain": [
       "   element_uid  user_uid consumption_mode            ts  watched_time  \\\n",
       "0         3336      5177                S  4.430518e+07          4282   \n",
       "1          481    593316                S  4.430518e+07          2989   \n",
       "2         4128    262355                S  4.430518e+07           833   \n",
       "\n",
       "   device_type  device_manufacturer  \n",
       "0            0                   50  \n",
       "1            0                   11  \n",
       "2            0                   50  "
      ]
     },
     "execution_count": 9,
     "metadata": {},
     "output_type": "execute_result"
    }
   ],
   "source": [
    "transactions.head(3)"
   ]
  },
  {
   "cell_type": "markdown",
   "metadata": {},
   "source": [
    " - `element_uid` — идентификатор элемента\n",
    " - `user_uid` — идентификатор пользователя\n",
    " - `consumption_mode` — тип потребления (`P` — покупка, `R` — аренда, `S` — просмотр по подписке)\n",
    " - `ts` — время совершения транзакции или начала просмотра в случае просмотра по подписке\n",
    " - `watched_time` — число просмотренных по транзакции секунд\n",
    " - `device_type` — анонимизированный тип устройства, с которого была совершена транзакция или начат просмотр\n",
    " - `device_manufacturer` — анонимизированный производитель устройства, с которого была совершена транзакция или начат просмотр"
   ]
  },
  {
   "cell_type": "markdown",
   "metadata": {},
   "source": [
    "---"
   ]
  },
  {
   "cell_type": "markdown",
   "metadata": {},
   "source": [
    "`ratings.csv` содержит информацию о поставленных пользователями оценках"
   ]
  },
  {
   "cell_type": "code",
   "execution_count": 10,
   "metadata": {},
   "outputs": [
    {
     "name": "stdout",
     "output_type": "stream",
     "text": [
      "CPU times: user 95.8 ms, sys: 22.7 ms, total: 119 ms\n",
      "Wall time: 119 ms\n"
     ]
    }
   ],
   "source": [
    "%%time\n",
    "ratings = pd.read_csv(\n",
    "    os.path.join(data_path, 'ratings.csv'),\n",
    "    dtype={\n",
    "        'element_uid': np.uint16,\n",
    "        'user_uid': np.uint32,\n",
    "        'ts': np.float64,\n",
    "        'rating': np.uint8\n",
    "    }\n",
    ")"
   ]
  },
  {
   "cell_type": "code",
   "execution_count": 11,
   "metadata": {},
   "outputs": [
    {
     "data": {
      "text/html": [
       "<div>\n",
       "<style scoped>\n",
       "    .dataframe tbody tr th:only-of-type {\n",
       "        vertical-align: middle;\n",
       "    }\n",
       "\n",
       "    .dataframe tbody tr th {\n",
       "        vertical-align: top;\n",
       "    }\n",
       "\n",
       "    .dataframe thead th {\n",
       "        text-align: right;\n",
       "    }\n",
       "</style>\n",
       "<table border=\"1\" class=\"dataframe\">\n",
       "  <thead>\n",
       "    <tr style=\"text-align: right;\">\n",
       "      <th></th>\n",
       "      <th>user_uid</th>\n",
       "      <th>element_uid</th>\n",
       "      <th>rating</th>\n",
       "      <th>ts</th>\n",
       "    </tr>\n",
       "  </thead>\n",
       "  <tbody>\n",
       "    <tr>\n",
       "      <th>0</th>\n",
       "      <td>571252</td>\n",
       "      <td>1364</td>\n",
       "      <td>10</td>\n",
       "      <td>4.430517e+07</td>\n",
       "    </tr>\n",
       "    <tr>\n",
       "      <th>1</th>\n",
       "      <td>63140</td>\n",
       "      <td>3037</td>\n",
       "      <td>10</td>\n",
       "      <td>4.430514e+07</td>\n",
       "    </tr>\n",
       "    <tr>\n",
       "      <th>2</th>\n",
       "      <td>443817</td>\n",
       "      <td>4363</td>\n",
       "      <td>8</td>\n",
       "      <td>4.430514e+07</td>\n",
       "    </tr>\n",
       "  </tbody>\n",
       "</table>\n",
       "</div>"
      ],
      "text/plain": [
       "   user_uid  element_uid  rating            ts\n",
       "0    571252         1364      10  4.430517e+07\n",
       "1     63140         3037      10  4.430514e+07\n",
       "2    443817         4363       8  4.430514e+07"
      ]
     },
     "execution_count": 11,
     "metadata": {},
     "output_type": "execute_result"
    }
   ],
   "source": [
    "ratings.head(3)"
   ]
  },
  {
   "cell_type": "markdown",
   "metadata": {},
   "source": [
    " - `rating` — поставленный пользователем рейтинг (от `0` до `10`)"
   ]
  },
  {
   "cell_type": "markdown",
   "metadata": {},
   "source": [
    "---"
   ]
  },
  {
   "cell_type": "markdown",
   "metadata": {},
   "source": [
    "`bookmarks.csv` содержит информацию об элементах, добавленных пользователями в список «Избранное»"
   ]
  },
  {
   "cell_type": "code",
   "execution_count": 12,
   "metadata": {},
   "outputs": [
    {
     "name": "stdout",
     "output_type": "stream",
     "text": [
      "CPU times: user 171 ms, sys: 24.9 ms, total: 196 ms\n",
      "Wall time: 197 ms\n"
     ]
    }
   ],
   "source": [
    "%%time\n",
    "bookmarks = pd.read_csv(\n",
    "    os.path.join(data_path, 'bookmarks.csv'),\n",
    "    dtype={\n",
    "        'element_uid': np.uint16,\n",
    "        'user_uid': np.uint32,\n",
    "        'ts': np.float64\n",
    "    }\n",
    ")"
   ]
  },
  {
   "cell_type": "code",
   "execution_count": 13,
   "metadata": {},
   "outputs": [
    {
     "data": {
      "text/html": [
       "<div>\n",
       "<style scoped>\n",
       "    .dataframe tbody tr th:only-of-type {\n",
       "        vertical-align: middle;\n",
       "    }\n",
       "\n",
       "    .dataframe tbody tr th {\n",
       "        vertical-align: top;\n",
       "    }\n",
       "\n",
       "    .dataframe thead th {\n",
       "        text-align: right;\n",
       "    }\n",
       "</style>\n",
       "<table border=\"1\" class=\"dataframe\">\n",
       "  <thead>\n",
       "    <tr style=\"text-align: right;\">\n",
       "      <th></th>\n",
       "      <th>user_uid</th>\n",
       "      <th>element_uid</th>\n",
       "      <th>ts</th>\n",
       "    </tr>\n",
       "  </thead>\n",
       "  <tbody>\n",
       "    <tr>\n",
       "      <th>0</th>\n",
       "      <td>301135</td>\n",
       "      <td>7185</td>\n",
       "      <td>4.430516e+07</td>\n",
       "    </tr>\n",
       "    <tr>\n",
       "      <th>1</th>\n",
       "      <td>301135</td>\n",
       "      <td>4083</td>\n",
       "      <td>4.430516e+07</td>\n",
       "    </tr>\n",
       "    <tr>\n",
       "      <th>2</th>\n",
       "      <td>301135</td>\n",
       "      <td>10158</td>\n",
       "      <td>4.430516e+07</td>\n",
       "    </tr>\n",
       "  </tbody>\n",
       "</table>\n",
       "</div>"
      ],
      "text/plain": [
       "   user_uid  element_uid            ts\n",
       "0    301135         7185  4.430516e+07\n",
       "1    301135         4083  4.430516e+07\n",
       "2    301135        10158  4.430516e+07"
      ]
     },
     "execution_count": 13,
     "metadata": {},
     "output_type": "execute_result"
    }
   ],
   "source": [
    "bookmarks.head(3)"
   ]
  },
  {
   "cell_type": "markdown",
   "metadata": {},
   "source": [
    "### Подготовка и тестирование модели"
   ]
  },
  {
   "cell_type": "code",
   "execution_count": 14,
   "metadata": {},
   "outputs": [
    {
     "data": {
      "text/html": [
       "<div>\n",
       "<style scoped>\n",
       "    .dataframe tbody tr th:only-of-type {\n",
       "        vertical-align: middle;\n",
       "    }\n",
       "\n",
       "    .dataframe tbody tr th {\n",
       "        vertical-align: top;\n",
       "    }\n",
       "\n",
       "    .dataframe thead th {\n",
       "        text-align: right;\n",
       "    }\n",
       "</style>\n",
       "<table border=\"1\" class=\"dataframe\">\n",
       "  <thead>\n",
       "    <tr style=\"text-align: right;\">\n",
       "      <th></th>\n",
       "      <th>element_uid</th>\n",
       "      <th>user_uid</th>\n",
       "      <th>consumption_mode</th>\n",
       "      <th>ts</th>\n",
       "      <th>watched_time</th>\n",
       "      <th>device_type</th>\n",
       "      <th>device_manufacturer</th>\n",
       "    </tr>\n",
       "  </thead>\n",
       "  <tbody>\n",
       "    <tr>\n",
       "      <th>2508834</th>\n",
       "      <td>4363</td>\n",
       "      <td>293613</td>\n",
       "      <td>S</td>\n",
       "      <td>4.370038e+07</td>\n",
       "      <td>65</td>\n",
       "      <td>0</td>\n",
       "      <td>11</td>\n",
       "    </tr>\n",
       "    <tr>\n",
       "      <th>2508835</th>\n",
       "      <td>7449</td>\n",
       "      <td>592643</td>\n",
       "      <td>S</td>\n",
       "      <td>4.370038e+07</td>\n",
       "      <td>941</td>\n",
       "      <td>3</td>\n",
       "      <td>99</td>\n",
       "    </tr>\n",
       "  </tbody>\n",
       "</table>\n",
       "</div>"
      ],
      "text/plain": [
       "         element_uid  user_uid consumption_mode            ts  watched_time  \\\n",
       "2508834         4363    293613                S  4.370038e+07            65   \n",
       "2508835         7449    592643                S  4.370038e+07           941   \n",
       "\n",
       "         device_type  device_manufacturer  \n",
       "2508834            0                   11  \n",
       "2508835            3                   99  "
      ]
     },
     "execution_count": 14,
     "metadata": {},
     "output_type": "execute_result"
    }
   ],
   "source": [
    "test_size_ts = 604800\n",
    "\n",
    "data_train = transactions[transactions['ts'] < transactions['ts'].max() - test_size_ts]\n",
    "data_test = transactions[transactions['ts'] >= transactions['ts'].max() - test_size_ts]\n",
    "\n",
    "data_train.head(2)"
   ]
  },
  {
   "cell_type": "markdown",
   "metadata": {},
   "source": [
    "#### Подготовим двухуровневую модель"
   ]
  },
  {
   "cell_type": "code",
   "execution_count": 15,
   "metadata": {},
   "outputs": [
    {
     "data": {
      "text/plain": [
       "[2714, 747, 3916, 2245, 6127]"
      ]
     },
     "execution_count": 15,
     "metadata": {},
     "output_type": "execute_result"
    }
   ],
   "source": [
    "# Новым пользователям будем рекомендовать топ-5\n",
    "popularity_top = data_train['element_uid'].value_counts().keys().tolist()[:5]\n",
    "popularity_top"
   ]
  },
  {
   "cell_type": "code",
   "execution_count": 16,
   "metadata": {},
   "outputs": [
    {
     "name": "stdout",
     "output_type": "stream",
     "text": [
      "Количество пользователей: 404008\n",
      "Количество объектов: 7088\n"
     ]
    }
   ],
   "source": [
    "# Подготовка матрицы item-user\n",
    "\n",
    "# берем пользователей, просмотревших не менее 2 фильмов\n",
    "\n",
    "\n",
    "matrix_users = data_train['user_uid'].value_counts().loc[lambda x : x > 2].keys().tolist()\n",
    "user_to_col = {}\n",
    "\n",
    "\n",
    "for col_id, user_id in enumerate(matrix_users):\n",
    "    user_to_col[user_id] = col_id\n",
    "\n",
    "\n",
    "# строим индекс obj_id -> row_id, где row_id - идентификатор строки в матрице\n",
    "# берем только фильмы, которые просмотрело не менее 10 пользователей\n",
    "\n",
    "\n",
    "matrix_items = data_train['element_uid'].value_counts().loc[lambda x : x > 10].keys().tolist()\n",
    "\n",
    "obj_to_row = {}\n",
    "\n",
    "for row_id, obj_id in enumerate(matrix_items):\n",
    "    obj_to_row[obj_id] = row_id\n",
    "    \n",
    "print (f\"Количество пользователей: {len(user_to_col)}\")\n",
    "print (f\"Количество объектов: {len(obj_to_row)}\")"
   ]
  },
  {
   "cell_type": "code",
   "execution_count": 17,
   "metadata": {},
   "outputs": [
    {
     "data": {
      "text/html": [
       "<div>\n",
       "<style scoped>\n",
       "    .dataframe tbody tr th:only-of-type {\n",
       "        vertical-align: middle;\n",
       "    }\n",
       "\n",
       "    .dataframe tbody tr th {\n",
       "        vertical-align: top;\n",
       "    }\n",
       "\n",
       "    .dataframe thead th {\n",
       "        text-align: right;\n",
       "    }\n",
       "</style>\n",
       "<table border=\"1\" class=\"dataframe\">\n",
       "  <thead>\n",
       "    <tr style=\"text-align: right;\">\n",
       "      <th></th>\n",
       "      <th>user_uid</th>\n",
       "      <th>actual</th>\n",
       "    </tr>\n",
       "  </thead>\n",
       "  <tbody>\n",
       "    <tr>\n",
       "      <th>0</th>\n",
       "      <td>0</td>\n",
       "      <td>[8739, 603, 3353, 6874, 51, 3623, 8864, 7619, ...</td>\n",
       "    </tr>\n",
       "    <tr>\n",
       "      <th>1</th>\n",
       "      <td>1</td>\n",
       "      <td>[9932, 9412, 7642, 1844, 5665]</td>\n",
       "    </tr>\n",
       "  </tbody>\n",
       "</table>\n",
       "</div>"
      ],
      "text/plain": [
       "   user_uid                                             actual\n",
       "0         0  [8739, 603, 3353, 6874, 51, 3623, 8864, 7619, ...\n",
       "1         1                     [9932, 9412, 7642, 1844, 5665]"
      ]
     },
     "execution_count": 17,
     "metadata": {},
     "output_type": "execute_result"
    }
   ],
   "source": [
    "# Подготовим таблицу для замера результата\n",
    "result = data_test.groupby('user_uid')['element_uid'].unique().reset_index()\n",
    "result.columns=['user_uid', 'actual']\n",
    "\n",
    "result = result.loc[result['user_uid'].isin(matrix_users)] \n",
    "\n",
    "result.head(2)"
   ]
  },
  {
   "cell_type": "code",
   "execution_count": 18,
   "metadata": {},
   "outputs": [
    {
     "name": "stdout",
     "output_type": "stream",
     "text": [
      "Процент заполненности матрицы: 0.24733050958068328\n",
      "CPU times: user 10min 53s, sys: 1.09 s, total: 10min 54s\n",
      "Wall time: 10min 55s\n"
     ]
    }
   ],
   "source": [
    "%%time\n",
    "\n",
    "# создаем матрицу нужных размеров\n",
    "\n",
    "matrix = lil_matrix(((len(user_to_col), (len(obj_to_row)))))  \n",
    "\n",
    "# заполняем матрицу\n",
    "\n",
    "for index, row in data_train.iterrows():\n",
    "    row_id = obj_to_row.get(row['element_uid'])\n",
    "    col_id = user_to_col.get(row['user_uid'])\n",
    "    if row_id is not None and col_id is not None:\n",
    "        matrix[col_id, row_id] = 1\n",
    "        \n",
    "for index, row in ratings.iterrows():\n",
    "    row_id = obj_to_row.get(row['element_uid'])\n",
    "    col_id = user_to_col.get(row['user_uid'])\n",
    "    if row_id is not None and col_id is not None:\n",
    "        matrix[col_id, row_id] *= row['rating']    \n",
    "        \n",
    "for index, row in bookmarks.iterrows():\n",
    "    row_id = obj_to_row.get(row['element_uid'])\n",
    "    col_id = user_to_col.get(row['user_uid'])\n",
    "    if row_id is not None and col_id is not None:\n",
    "        matrix[col_id, row_id] *= 2\n",
    "        \n",
    "percent = float(matrix.nnz) / len(obj_to_row) / len(user_to_col) * 100\n",
    "print(f\"Процент заполненности матрицы: {percent}\")"
   ]
  },
  {
   "cell_type": "code",
   "execution_count": 19,
   "metadata": {},
   "outputs": [],
   "source": [
    "# нормализуем исходную матрицу \n",
    "normalized_matrix = normalize(matrix.tocsr()).tocsr()"
   ]
  },
  {
   "cell_type": "code",
   "execution_count": 20,
   "metadata": {},
   "outputs": [
    {
     "name": "stderr",
     "output_type": "stream",
     "text": [
      "WARNING:root:OpenBLAS detected. Its highly recommend to set the environment variable 'export OPENBLAS_NUM_THREADS=1' to disable its internal multithreading\n"
     ]
    },
    {
     "data": {
      "application/vnd.jupyter.widget-view+json": {
       "model_id": "865f8125f4264c1b99e2bafa9b1251be",
       "version_major": 2,
       "version_minor": 0
      },
      "text/plain": [
       "HBox(children=(FloatProgress(value=0.0, max=15.0), HTML(value='')))"
      ]
     },
     "metadata": {},
     "output_type": "display_data"
    },
    {
     "name": "stdout",
     "output_type": "stream",
     "text": [
      "\n"
     ]
    }
   ],
   "source": [
    "model = AlternatingLeastSquares(factors=15, #k\n",
    "                                regularization=0.001,\n",
    "                                iterations=15, \n",
    "                                calculate_training_loss=True, \n",
    "                                num_threads=4)\n",
    "\n",
    "model.fit(csr_matrix(normalized_matrix).T.tocsr(), show_progress=True)"
   ]
  },
  {
   "cell_type": "code",
   "execution_count": 21,
   "metadata": {},
   "outputs": [],
   "source": [
    "def get_recommendations(user, model, N=5):\n",
    "    res = [obj_to_row.get(rec[0]) for rec in \n",
    "                    model.recommend(userid=user_to_col.get(user), \n",
    "                                    user_items=csr_matrix(normalized_matrix).tocsr(),   \n",
    "                                    N=N, \n",
    "                                    filter_already_liked_items=True, \n",
    "                                    filter_items=None, \n",
    "                                    recalculate_user=True)]   \n",
    "    return res"
   ]
  },
  {
   "cell_type": "code",
   "execution_count": 22,
   "metadata": {},
   "outputs": [
    {
     "name": "stdout",
     "output_type": "stream",
     "text": [
      "CPU times: user 7min 25s, sys: 51.8 s, total: 8min 16s\n",
      "Wall time: 2min 4s\n"
     ]
    }
   ],
   "source": [
    "%%time\n",
    "    \n",
    "result['als'] = result['user_uid'].apply(lambda x: get_recommendations(x, model=model, N=15))"
   ]
  },
  {
   "cell_type": "code",
   "execution_count": 23,
   "metadata": {},
   "outputs": [],
   "source": [
    "# Подготовим второй уровень уровень - LGBboost: добавим признаки для обучения и построим модель \n",
    "\n",
    "users_lvl_2 = pd.DataFrame(data_train['user_uid'].unique())\n",
    "users_lvl_2.columns = ['user_uid']\n",
    "users_lvl_2 = users_lvl_2.loc[users_lvl_2['user_uid'].isin(matrix_users)] \n",
    "\n",
    "users_lvl_2['candidates'] = users_lvl_2['user_uid'].apply(lambda x: get_recommendations(x, model=model, N=30))"
   ]
  },
  {
   "cell_type": "code",
   "execution_count": 24,
   "metadata": {},
   "outputs": [],
   "source": [
    "users_lvl_2_val = pd.DataFrame(data_test['user_uid'].unique())\n",
    "users_lvl_2_val.columns = ['user_uid']\n",
    "\n",
    "users_lvl_2_val = users_lvl_2_val[users_lvl_2_val['user_uid'].isin(matrix_users)]\n",
    "\n",
    "users_lvl_2_val['candidates'] = users_lvl_2_val['user_uid'].apply(lambda x: get_recommendations(x, model=model, N=30))"
   ]
  },
  {
   "cell_type": "code",
   "execution_count": 25,
   "metadata": {},
   "outputs": [],
   "source": [
    "df = pd.DataFrame({'user_uid':users_lvl_2.user_uid.values.repeat(len(users_lvl_2.candidates[0])),\n",
    "                 'element_uid':np.concatenate(users_lvl_2.candidates.values)})"
   ]
  },
  {
   "cell_type": "code",
   "execution_count": 26,
   "metadata": {},
   "outputs": [],
   "source": [
    "df_val = pd.DataFrame({'user_uid':users_lvl_2_val.user_uid.values.repeat(len(users_lvl_2_val.candidates[0])),\n",
    "                 'element_uid':np.concatenate(users_lvl_2_val.candidates.values)})"
   ]
  },
  {
   "cell_type": "code",
   "execution_count": 27,
   "metadata": {},
   "outputs": [],
   "source": [
    "targets_lvl_2 = data_train[['user_uid', 'element_uid']].copy()\n",
    "targets_lvl_2['target'] = 1   \n",
    "\n",
    "targets_lvl_2 = df.merge(targets_lvl_2, on=['user_uid', 'element_uid'], how='left')\n",
    "\n",
    "targets_lvl_2['target'].fillna(0, inplace= True)"
   ]
  },
  {
   "cell_type": "code",
   "execution_count": 28,
   "metadata": {},
   "outputs": [],
   "source": [
    "targets_lvl_2_val = data_test[['user_uid', 'element_uid']].copy()\n",
    "targets_lvl_2_val['target'] = 1   \n",
    "\n",
    "targets_lvl_2_val = df_val.merge(targets_lvl_2_val, on=['user_uid', 'element_uid'], how='left')\n",
    "\n",
    "targets_lvl_2_val['target'].fillna(0, inplace= True)"
   ]
  },
  {
   "cell_type": "code",
   "execution_count": 29,
   "metadata": {},
   "outputs": [],
   "source": [
    "def get_feats(element, i):\n",
    "    \n",
    "    try:\n",
    "        feat = catalogue[element][f'feature_{i}']\n",
    "    except:\n",
    "        feat = 0\n",
    "     \n",
    "    return feat"
   ]
  },
  {
   "cell_type": "code",
   "execution_count": 30,
   "metadata": {},
   "outputs": [],
   "source": [
    "def get_user_feats(user, i):\n",
    "    \n",
    "    try:\n",
    "        feat = model.user_factors[user_to_col.get(user)][i]\n",
    "    except:\n",
    "        feat = 0\n",
    "     \n",
    "    return feat"
   ]
  },
  {
   "cell_type": "code",
   "execution_count": 31,
   "metadata": {},
   "outputs": [],
   "source": [
    "def get_duration(element):\n",
    "    \n",
    "    try:\n",
    "        feat = catalogue[element]['duration']\n",
    "    except:\n",
    "        feat = 0\n",
    "     \n",
    "    return feat"
   ]
  },
  {
   "cell_type": "code",
   "execution_count": 32,
   "metadata": {},
   "outputs": [],
   "source": [
    "for i in range(1, 6):\n",
    "    targets_lvl_2[f'feature_{i}'] = targets_lvl_2['element_uid'].apply(lambda x: get_feats(x, i))\n",
    "    targets_lvl_2_val[f'feature_{i}'] = targets_lvl_2_val['element_uid'].apply(lambda x: get_feats(x, i))"
   ]
  },
  {
   "cell_type": "code",
   "execution_count": 33,
   "metadata": {},
   "outputs": [],
   "source": [
    "for i in range(15):\n",
    "    targets_lvl_2[f'user_feature_{i}'] = targets_lvl_2['user_uid'].apply(lambda x: get_duration(x))\n",
    "    targets_lvl_2_val[f'user_feature_{i}'] = targets_lvl_2_val['user_uid'].apply(lambda x: get_duration(x)) "
   ]
  },
  {
   "cell_type": "code",
   "execution_count": 34,
   "metadata": {},
   "outputs": [],
   "source": [
    "targets_lvl_2['duration'] = targets_lvl_2['element_uid'].apply(lambda x: get_feats(x, i))\n",
    "targets_lvl_2_val['duration'] = targets_lvl_2_val['element_uid'].apply(lambda x: get_feats(x, i))"
   ]
  },
  {
   "cell_type": "code",
   "execution_count": 35,
   "metadata": {},
   "outputs": [],
   "source": [
    "X_train = targets_lvl_2.drop('target', axis=1)\n",
    "y_train = targets_lvl_2[['target']]\n",
    "\n",
    "X_test = targets_lvl_2_val.drop('target', axis=1)\n",
    "y_test = targets_lvl_2_val[['target']]"
   ]
  },
  {
   "cell_type": "code",
   "execution_count": 36,
   "metadata": {},
   "outputs": [],
   "source": [
    "X_train['element_uid'] = pd.to_numeric(X_train['element_uid'], downcast='float', errors='coerce')\n",
    "X_test['element_uid'] = pd.to_numeric(X_test['element_uid'], downcast='float', errors='coerce')"
   ]
  },
  {
   "cell_type": "code",
   "execution_count": 37,
   "metadata": {},
   "outputs": [],
   "source": [
    "model_lgb = lgb.LGBMClassifier(objective='binary', max_depth=7)"
   ]
  },
  {
   "cell_type": "code",
   "execution_count": 38,
   "metadata": {},
   "outputs": [
    {
     "name": "stderr",
     "output_type": "stream",
     "text": [
      "/Users/ekaterinarazdumina/anaconda3/lib/python3.8/site-packages/sklearn/utils/validation.py:72: DataConversionWarning: A column-vector y was passed when a 1d array was expected. Please change the shape of y to (n_samples, ), for example using ravel().\n",
      "  return f(**kwargs)\n"
     ]
    }
   ],
   "source": [
    "model_lgb.fit(\n",
    "    X=X_train, y=y_train)\n",
    "\n",
    "y_score = model_lgb.predict(X_test)"
   ]
  },
  {
   "cell_type": "code",
   "execution_count": 39,
   "metadata": {},
   "outputs": [],
   "source": [
    "X_test['result'] = y_score\n",
    "\n",
    "result_val_2 = X_test[['user_uid', 'element_uid', 'result']]\n",
    "result_val_2 = result_val_2.loc[result_val_2['result'] == 1]\n",
    "result_val_2 = result_val_2.groupby('user_uid')['element_uid'].apply(list).to_frame()"
   ]
  },
  {
   "cell_type": "code",
   "execution_count": 40,
   "metadata": {},
   "outputs": [],
   "source": [
    "result = result.merge(result_val_2, on='user_uid', how='left')\n",
    "result.rename(columns={'element_uid': 'lvl2_raw'}, inplace=True)"
   ]
  },
  {
   "cell_type": "markdown",
   "metadata": {},
   "source": [
    "#### Замерим качество"
   ]
  },
  {
   "cell_type": "code",
   "execution_count": 41,
   "metadata": {},
   "outputs": [],
   "source": [
    "def precision_at_k(recommended_list, watched_list, k=5):\n",
    "    \n",
    "    watched_list = np.array(watched_list)\n",
    "    \n",
    "    try:\n",
    "        recommended_list = np.array([x for x in recommended_list if x != None])    \n",
    "        recommended_list = recommended_list[:k]\n",
    "    except:\n",
    "        recommended_list = np.array(popularity_top)\n",
    "    \n",
    "    flags = np.isin(watched_list, recommended_list)\n",
    "    precision = flags.sum() / k\n",
    "    \n",
    "    \n",
    "    return precision"
   ]
  },
  {
   "cell_type": "code",
   "execution_count": 42,
   "metadata": {},
   "outputs": [
    {
     "data": {
      "text/plain": [
       "0.0008273712856076899"
      ]
     },
     "execution_count": 42,
     "metadata": {},
     "output_type": "execute_result"
    }
   ],
   "source": [
    "result.apply(lambda row: precision_at_k(row['als'], row['actual']), axis=1).mean()"
   ]
  },
  {
   "cell_type": "code",
   "execution_count": 43,
   "metadata": {},
   "outputs": [
    {
     "data": {
      "text/plain": [
       "0.01728042838958597"
      ]
     },
     "execution_count": 43,
     "metadata": {},
     "output_type": "execute_result"
    }
   ],
   "source": [
    "result.apply(lambda row: precision_at_k(row['lvl2_raw'], row['actual']), axis=1).mean()"
   ]
  },
  {
   "cell_type": "code",
   "execution_count": 44,
   "metadata": {},
   "outputs": [
    {
     "data": {
      "text/html": [
       "<div>\n",
       "<style scoped>\n",
       "    .dataframe tbody tr th:only-of-type {\n",
       "        vertical-align: middle;\n",
       "    }\n",
       "\n",
       "    .dataframe tbody tr th {\n",
       "        vertical-align: top;\n",
       "    }\n",
       "\n",
       "    .dataframe thead th {\n",
       "        text-align: right;\n",
       "    }\n",
       "</style>\n",
       "<table border=\"1\" class=\"dataframe\">\n",
       "  <thead>\n",
       "    <tr style=\"text-align: right;\">\n",
       "      <th></th>\n",
       "      <th>user_uid</th>\n",
       "      <th>actual</th>\n",
       "      <th>als</th>\n",
       "      <th>lvl2_raw</th>\n",
       "    </tr>\n",
       "  </thead>\n",
       "  <tbody>\n",
       "    <tr>\n",
       "      <th>0</th>\n",
       "      <td>0</td>\n",
       "      <td>[8739, 603, 3353, 6874, 51, 3623, 8864, 7619, ...</td>\n",
       "      <td>[None, 6499, 6491, 159, 234, 1881, None, None,...</td>\n",
       "      <td>NaN</td>\n",
       "    </tr>\n",
       "    <tr>\n",
       "      <th>1</th>\n",
       "      <td>1</td>\n",
       "      <td>[9932, 9412, 7642, 1844, 5665]</td>\n",
       "      <td>[35, 5248, 4301, None, 6491, 6499, None, 1984,...</td>\n",
       "      <td>NaN</td>\n",
       "    </tr>\n",
       "    <tr>\n",
       "      <th>2</th>\n",
       "      <td>2</td>\n",
       "      <td>[9206]</td>\n",
       "      <td>[3480, 5278, None, 734, 4644, 1529, 3794, 6886...</td>\n",
       "      <td>NaN</td>\n",
       "    </tr>\n",
       "    <tr>\n",
       "      <th>3</th>\n",
       "      <td>3</td>\n",
       "      <td>[2052, 5057, 7513, 6440, 5947, 8647, 8101, 210...</td>\n",
       "      <td>[None, 1977, 1235, 6499, 444, None, 5805, 2841...</td>\n",
       "      <td>NaN</td>\n",
       "    </tr>\n",
       "    <tr>\n",
       "      <th>4</th>\n",
       "      <td>5</td>\n",
       "      <td>[1911, 3378, 1565]</td>\n",
       "      <td>[3062, None, None, 4311, None, None, 5151, Non...</td>\n",
       "      <td>NaN</td>\n",
       "    </tr>\n",
       "    <tr>\n",
       "      <th>...</th>\n",
       "      <td>...</td>\n",
       "      <td>...</td>\n",
       "      <td>...</td>\n",
       "      <td>...</td>\n",
       "    </tr>\n",
       "    <tr>\n",
       "      <th>182259</th>\n",
       "      <td>593473</td>\n",
       "      <td>[6103, 3359, 2760, 82, 4926, 7580]</td>\n",
       "      <td>[None, None, 6951, 601, None, 7087, None, None...</td>\n",
       "      <td>NaN</td>\n",
       "    </tr>\n",
       "    <tr>\n",
       "      <th>182260</th>\n",
       "      <td>593478</td>\n",
       "      <td>[1521]</td>\n",
       "      <td>[None, None, None, None, None, None, 3062, 708...</td>\n",
       "      <td>NaN</td>\n",
       "    </tr>\n",
       "    <tr>\n",
       "      <th>182261</th>\n",
       "      <td>593482</td>\n",
       "      <td>[9179, 2383, 8420]</td>\n",
       "      <td>[6491, None, 3480, 6499, None, 6886, 3833, 198...</td>\n",
       "      <td>NaN</td>\n",
       "    </tr>\n",
       "    <tr>\n",
       "      <th>182262</th>\n",
       "      <td>593484</td>\n",
       "      <td>[9932]</td>\n",
       "      <td>[None, 1984, 1611, 4071, 5357, None, 4341, Non...</td>\n",
       "      <td>NaN</td>\n",
       "    </tr>\n",
       "    <tr>\n",
       "      <th>182263</th>\n",
       "      <td>593489</td>\n",
       "      <td>[2035, 8286, 1612, 9427]</td>\n",
       "      <td>[1812, None, 1828, None, 152, 35, 2615, 3168, ...</td>\n",
       "      <td>NaN</td>\n",
       "    </tr>\n",
       "  </tbody>\n",
       "</table>\n",
       "<p>182264 rows × 4 columns</p>\n",
       "</div>"
      ],
      "text/plain": [
       "        user_uid                                             actual  \\\n",
       "0              0  [8739, 603, 3353, 6874, 51, 3623, 8864, 7619, ...   \n",
       "1              1                     [9932, 9412, 7642, 1844, 5665]   \n",
       "2              2                                             [9206]   \n",
       "3              3  [2052, 5057, 7513, 6440, 5947, 8647, 8101, 210...   \n",
       "4              5                                 [1911, 3378, 1565]   \n",
       "...          ...                                                ...   \n",
       "182259    593473                 [6103, 3359, 2760, 82, 4926, 7580]   \n",
       "182260    593478                                             [1521]   \n",
       "182261    593482                                 [9179, 2383, 8420]   \n",
       "182262    593484                                             [9932]   \n",
       "182263    593489                           [2035, 8286, 1612, 9427]   \n",
       "\n",
       "                                                      als lvl2_raw  \n",
       "0       [None, 6499, 6491, 159, 234, 1881, None, None,...      NaN  \n",
       "1       [35, 5248, 4301, None, 6491, 6499, None, 1984,...      NaN  \n",
       "2       [3480, 5278, None, 734, 4644, 1529, 3794, 6886...      NaN  \n",
       "3       [None, 1977, 1235, 6499, 444, None, 5805, 2841...      NaN  \n",
       "4       [3062, None, None, 4311, None, None, 5151, Non...      NaN  \n",
       "...                                                   ...      ...  \n",
       "182259  [None, None, 6951, 601, None, 7087, None, None...      NaN  \n",
       "182260  [None, None, None, None, None, None, 3062, 708...      NaN  \n",
       "182261  [6491, None, 3480, 6499, None, 6886, 3833, 198...      NaN  \n",
       "182262  [None, 1984, 1611, 4071, 5357, None, 4341, Non...      NaN  \n",
       "182263  [1812, None, 1828, None, 152, 35, 2615, 3168, ...      NaN  \n",
       "\n",
       "[182264 rows x 4 columns]"
      ]
     },
     "execution_count": 44,
     "metadata": {},
     "output_type": "execute_result"
    }
   ],
   "source": [
    "result"
   ]
  },
  {
   "cell_type": "code",
   "execution_count": null,
   "metadata": {},
   "outputs": [],
   "source": []
  }
 ],
 "metadata": {
  "hide_input": false,
  "kernelspec": {
   "display_name": "Python 3",
   "language": "python",
   "name": "python3"
  },
  "language_info": {
   "codemirror_mode": {
    "name": "ipython",
    "version": 3
   },
   "file_extension": ".py",
   "mimetype": "text/x-python",
   "name": "python",
   "nbconvert_exporter": "python",
   "pygments_lexer": "ipython3",
   "version": "3.8.3"
  }
 },
 "nbformat": 4,
 "nbformat_minor": 2
}
